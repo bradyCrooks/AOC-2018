{
 "cells": [
  {
   "cell_type": "markdown",
   "metadata": {},
   "source": [
    "Puzzle 1 \n",
    "Todo:\n",
    "- Parse Coords\n",
    "- Figure how to plot for one guy\n",
    "- Plot every claim\n",
    "- Filter array for more than one claim\n",
    "-) Count spaces"
   ]
  },
  {
   "cell_type": "code",
   "execution_count": 13,
   "metadata": {},
   "outputs": [
    {
     "name": "stdout",
     "output_type": "stream",
     "text": [
      "test_passed\n"
     ]
    }
   ],
   "source": [
    "def getCoords(line):\n",
    "    coords = {\"start_x\":0, \"start_y\":0, \"end_x\":0, \"end_y\":0}\n",
    "    at_pos = line.find(\"@\")\n",
    "    com_pos = line.find(\",\")\n",
    "    col_pos = line.find(\":\")\n",
    "    x_pos = line.find(\"x\")\n",
    "    \n",
    "    coords[\"start_x\"] = int(line[at_pos + 2 : com_pos])\n",
    "    coords[\"start_y\"] = int(line[com_pos + 1 : col_pos])\n",
    "    coords[\"end_x\"] = coords[\"start_x\"] + int(line[col_pos + 2 : x_pos]) - 1\n",
    "    coords[\"end_y\"] = coords[\"start_y\"] + int(line[x_pos + 1:]) - 1\n",
    "    return coords\n",
    "\n",
    "def test_getCoords():\n",
    "    test_line = \"#1 @ 1,3: 4x4\"\n",
    "    coords = getCoords(test_line)\n",
    "    try:\n",
    "        assert coords[\"start_x\"] == 1, \"start x is wrong\"\n",
    "        assert coords[\"start_y\"] == 3, \"start y is wrong\"\n",
    "        assert coords[\"end_x\"] == 4, \"end x is wrong\"\n",
    "        assert coords[\"end_y\"] == 6, \"end y is wrong\"\n",
    "        print(\"test_passed\")\n",
    "    except AssertionError as e:\n",
    "        print (\"Test Failed: \", e)\n",
    "        \n",
    "   \n",
    "test_getCoords()"
   ]
  },
  {
   "cell_type": "code",
   "execution_count": 37,
   "metadata": {},
   "outputs": [
    {
     "name": "stdout",
     "output_type": "stream",
     "text": [
      "[[ 0.  0.  0.  0.  0.  0.  0.  0.  0.  0.  0.]\n",
      " [ 0.  0.  0.  0.  0.  0.  0.  0.  0.  0.  0.]\n",
      " [ 0.  0.  0.  2.  2.  1.  1.  1.  0.  0.  0.]\n",
      " [ 0.  0.  0.  2.  2.  2.  2.  2.  0.  0.  0.]\n",
      " [ 0.  0.  0.  1.  1.  2.  2.  2.  0.  0.  0.]\n",
      " [ 0.  0.  0.  1.  1.  2.  2.  2.  0.  0.  0.]\n",
      " [ 0.  0.  0.  0.  0.  0.  0.  0.  0.  0.  0.]\n",
      " [ 0.  0.  0.  0.  0.  0.  0.  0.  0.  0.  0.]\n",
      " [ 0.  0.  0.  0.  0.  0.  0.  0.  0.  0.  0.]]\n",
      "[ 2.  2.  2.  2.  2.  2.  2.  2.  2.  2.  2.  2.  2.]\n",
      "13\n",
      "8.0\n",
      "[ 0.  1.  2.]\n",
      "1.0\n",
      "2.0\n",
      "3.0\n"
     ]
    }
   ],
   "source": [
    "import numpy as np\n",
    "# test plotting\n",
    "# remember indexing is [y, x]\n",
    "test_cloth = np.zeros((9,11))\n",
    "test_cloth[2 : 2 + 4, 3 : 3 + 5] = 1\n",
    "test_cloth[2 : 2 + 2, 3 : 3 + 2] += 1\n",
    "test_cloth[3 : 6, 5:8] += 1\n",
    "print(test_cloth)\n",
    "\n",
    "check = test_cloth[test_cloth > 1]\n",
    "print(check)\n",
    "print(len(check))\n",
    "\n",
    "print(test_cloth[2:4,3:5].sum())\n",
    "\n",
    "unq = np.unique(test_cloth)\n",
    "print(unq)\n",
    "for el in unq:\n",
    "    if el != 0:\n",
    "        print (el)\n",
    "print(sum(unq))"
   ]
  },
  {
   "cell_type": "code",
   "execution_count": 28,
   "metadata": {},
   "outputs": [
    {
     "name": "stdout",
     "output_type": "stream",
     "text": [
      "109785\n"
     ]
    }
   ],
   "source": [
    "# Puzzle 1 solution\n",
    "cloth = np.zeros((1001,1001))\n",
    "with open(\"day3_input.txt\", \"r\") as file:\n",
    "    for line in file:\n",
    "        coords = getCoords(line)\n",
    "        cloth[coords[\"start_y\"] : coords[\"end_y\"] + 1, coords[\"start_x\"] : coords[\"end_x\"] + 1] += 1\n",
    "overlaps = len(cloth[cloth > 1])\n",
    "print(overlaps)"
   ]
  },
  {
   "cell_type": "code",
   "execution_count": 30,
   "metadata": {},
   "outputs": [
    {
     "name": "stdout",
     "output_type": "stream",
     "text": [
      "test_passed\n"
     ]
    }
   ],
   "source": [
    "def getCoords_full(line):\n",
    "    coords = {\"id\":0,\"start_x\":0, \"start_y\":0, \"end_x\":0, \"end_y\":0}\n",
    "    at_pos = line.find(\"@\")\n",
    "    com_pos = line.find(\",\")\n",
    "    col_pos = line.find(\":\")\n",
    "    x_pos = line.find(\"x\")\n",
    "    \n",
    "    coords[\"id\"] = int(line[1: at_pos - 1])\n",
    "    coords[\"start_x\"] = int(line[at_pos + 2 : com_pos])\n",
    "    coords[\"start_y\"] = int(line[com_pos + 1 : col_pos])\n",
    "    coords[\"end_x\"] = coords[\"start_x\"] + int(line[col_pos + 2 : x_pos]) - 1\n",
    "    coords[\"end_y\"] = coords[\"start_y\"] + int(line[x_pos + 1:]) - 1\n",
    "    return coords\n",
    "\n",
    "def test_getCoords_full():\n",
    "    test_line = \"#1 @ 1,3: 4x4\"\n",
    "    coords = getCoords_full(test_line)\n",
    "    try:\n",
    "        assert coords[\"id\"] == 1, \"id is wrong\"\n",
    "        assert coords[\"start_x\"] == 1, \"start x is wrong\"\n",
    "        assert coords[\"start_y\"] == 3, \"start y is wrong\"\n",
    "        assert coords[\"end_x\"] == 4, \"end x is wrong\"\n",
    "        assert coords[\"end_y\"] == 6, \"end y is wrong\"\n",
    "        print(\"test_passed\")\n",
    "    except AssertionError as e:\n",
    "        print (\"Test Failed: \", e)\n",
    "        \n",
    "   \n",
    "test_getCoords_full()"
   ]
  },
  {
   "cell_type": "code",
   "execution_count": 42,
   "metadata": {},
   "outputs": [
    {
     "name": "stdout",
     "output_type": "stream",
     "text": [
      "[ 504.]\n"
     ]
    }
   ],
   "source": [
    "# Puzzle 2 solution\n",
    "cloth = np.zeros((1001,1001))\n",
    "with open(\"day3_input.txt\", \"r\") as file:\n",
    "    for line in file:\n",
    "        coords = getCoords_full(line)\n",
    "        \n",
    "        #Get values in areas about to be claimed\n",
    "        unq_vals = np.unique(cloth[coords[\"start_y\"] : coords[\"end_y\"] + 1, coords[\"start_x\"] : coords[\"end_x\"] + 1])\n",
    "        #If area is unclaimed, claim it\n",
    "        if len(unq_vals) == 1 and unq_vals[0] == 0:\n",
    "            cloth[coords[\"start_y\"] : coords[\"end_y\"] + 1, coords[\"start_x\"] : coords[\"end_x\"] + 1] = coords[\"id\"]\n",
    "            #print(\"here\")\n",
    "        else:\n",
    "            #If area is claimed nuke it\n",
    "            cloth[coords[\"start_y\"] : coords[\"end_y\"] + 1, coords[\"start_x\"] : coords[\"end_x\"] + 1] = -1\n",
    "            #Also nuke overlapping claims found\n",
    "            for val in unq_vals:\n",
    "                if val != 0:\n",
    "                    cloth[cloth == val] = -1\n",
    "# Get remaining values\n",
    "rem_values = np.unique(cloth)\n",
    "print(rem_values[(rem_values != 0) & (rem_values != -1)])"
   ]
  }
 ],
 "metadata": {
  "kernelspec": {
   "display_name": "Python 3",
   "language": "python",
   "name": "python3"
  },
  "language_info": {
   "codemirror_mode": {
    "name": "ipython",
    "version": 3
   },
   "file_extension": ".py",
   "mimetype": "text/x-python",
   "name": "python",
   "nbconvert_exporter": "python",
   "pygments_lexer": "ipython3",
   "version": "3.6.3"
  }
 },
 "nbformat": 4,
 "nbformat_minor": 2
}
