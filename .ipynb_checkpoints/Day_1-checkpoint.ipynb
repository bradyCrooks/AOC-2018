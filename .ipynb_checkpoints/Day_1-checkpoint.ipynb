{
 "cells": [
  {
   "cell_type": "code",
   "execution_count": 15,
   "metadata": {},
   "outputs": [
    {
     "name": "stdout",
     "output_type": "stream",
     "text": [
      "408\n"
     ]
    }
   ],
   "source": [
    "# Part 1\n",
    "freq = 0\n",
    "with open('day1_entry.txt.txt', 'r') as file:\n",
    "    for line in file:\n",
    "        op = line[0]\n",
    "        num = int(line[1:])\n",
    "        if op == \"-\":\n",
    "            num *= -1\n",
    "        freq += num\n",
    "print(freq)"
   ]
  },
  {
   "cell_type": "code",
   "execution_count": 28,
   "metadata": {},
   "outputs": [
    {
     "name": "stdout",
     "output_type": "stream",
     "text": [
      "{'0': 1, '1': 2, '2': 3}\n",
      "1\n",
      "{'0': 1, '1': 2, '2': 3, '4': 1}\n",
      "1\n"
     ]
    },
    {
     "ename": "KeyError",
     "evalue": "'5'",
     "output_type": "error",
     "traceback": [
      "\u001b[1;31m---------------------------------------------------------------------------\u001b[0m",
      "\u001b[1;31mKeyError\u001b[0m                                  Traceback (most recent call last)",
      "\u001b[1;32m<ipython-input-28-56293d670adb>\u001b[0m in \u001b[0;36m<module>\u001b[1;34m()\u001b[0m\n\u001b[0;32m      9\u001b[0m         \u001b[0mprint\u001b[0m \u001b[1;33m(\u001b[0m\u001b[0mkey\u001b[0m\u001b[1;33m)\u001b[0m\u001b[1;33m\u001b[0m\u001b[0m\n\u001b[0;32m     10\u001b[0m         \u001b[1;32mbreak\u001b[0m\u001b[1;33m\u001b[0m\u001b[0m\n\u001b[1;32m---> 11\u001b[1;33m \u001b[0mtest\u001b[0m\u001b[1;33m[\u001b[0m\u001b[1;34m'5'\u001b[0m\u001b[1;33m]\u001b[0m \u001b[1;33m+=\u001b[0m \u001b[1;36m1\u001b[0m\u001b[1;33m\u001b[0m\u001b[0m\n\u001b[0m",
      "\u001b[1;31mKeyError\u001b[0m: '5'"
     ]
    }
   ],
   "source": [
    "# testing for part 2\n",
    "test = {'0': 1, '1': 2, '2': 3}\n",
    "print(test)\n",
    "print(test['0'])\n",
    "test['4'] = 1\n",
    "print(test)\n",
    "for key, value in test.items():\n",
    "    if value >= 2:\n",
    "        print (key)\n",
    "        break\n",
    "test['5'] += 1"
   ]
  },
  {
   "cell_type": "code",
   "execution_count": 33,
   "metadata": {},
   "outputs": [
    {
     "name": "stdout",
     "output_type": "stream",
     "text": [
      "55250\n"
     ]
    }
   ],
   "source": [
    "# Part 2\n",
    "# Could have done with lists\n",
    "freq_dict = {'0': 1}\n",
    "freq = 0\n",
    "ans_found = False\n",
    "while ans_found == False:\n",
    "    with open('day1_entry.txt.txt', 'r') as file:\n",
    "        for line in file:\n",
    "            op = line[0]\n",
    "            num = int(line[1:])\n",
    "            if op == \"-\":\n",
    "                num *= -1\n",
    "            freq += num\n",
    "            index = str(freq)\n",
    "            if index in freq_dict.keys():\n",
    "                ans_found = True\n",
    "                print(index)\n",
    "                break\n",
    "            else:\n",
    "                freq_dict[index] = 1"
   ]
  }
 ],
 "metadata": {
  "kernelspec": {
   "display_name": "Python 3",
   "language": "python",
   "name": "python3"
  },
  "language_info": {
   "codemirror_mode": {
    "name": "ipython",
    "version": 3
   },
   "file_extension": ".py",
   "mimetype": "text/x-python",
   "name": "python",
   "nbconvert_exporter": "python",
   "pygments_lexer": "ipython3",
   "version": "3.6.3"
  }
 },
 "nbformat": 4,
 "nbformat_minor": 2
}
