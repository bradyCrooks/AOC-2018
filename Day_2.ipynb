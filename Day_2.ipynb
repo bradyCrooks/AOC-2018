{
 "cells": [
  {
   "cell_type": "code",
   "execution_count": 18,
   "metadata": {},
   "outputs": [
    {
     "name": "stdout",
     "output_type": "stream",
     "text": [
      "Counter({'b': 3, 'd': 2, 'e': 2, 'a': 1, 'c': 1, 'f': 1})\n",
      "{'d': 2, 'e': 2}\n",
      "2\n",
      "works\n"
     ]
    }
   ],
   "source": [
    "# Test collections\n",
    "from collections import Counter\n",
    "c = Counter(\"abbbcddeef\")\n",
    "print(c)\n",
    "twos = {k: v for k, v in c.items() if v == 2}\n",
    "print(twos)\n",
    "print(len(twos))\n",
    "\n",
    "if 2 in c.values():\n",
    "    print(\"works\")\n",
    "else:\n",
    "    print(\"nope\")"
   ]
  },
  {
   "cell_type": "code",
   "execution_count": 20,
   "metadata": {},
   "outputs": [
    {
     "name": "stdout",
     "output_type": "stream",
     "text": [
      "7533\n"
     ]
    }
   ],
   "source": [
    "# Puzzle 1\n",
    "twos = 0 \n",
    "threes = 0\n",
    "with open(\"Day-2-input.txt.txt\", \"r\") as file:\n",
    "    for line in file:\n",
    "        count = Counter(line)\n",
    "        #twos += len({k: v for k, v in count.items() if v == 2}) # don't need to do this\n",
    "        #threes += len({k: v for k, v in count.items() if v == 3})\n",
    "        if 2 in count.values():\n",
    "            twos += 1\n",
    "        if 3 in count.values():\n",
    "            threes += 1\n",
    "print (twos * threes)\n",
    "        "
   ]
  },
  {
   "cell_type": "code",
   "execution_count": 34,
   "metadata": {},
   "outputs": [
    {
     "name": "stdout",
     "output_type": "stream",
     "text": [
      "['bc', 'bc']\n",
      "Counter({'bc': 2})\n",
      "2\n"
     ]
    }
   ],
   "source": [
    "# test with lists\n",
    "l = [\"abcd\", \"abce\"]\n",
    "s = [i[0:0] + i[1:3] + i[len(i)+1:len(i)] for i in l]\n",
    "print(s)\n",
    "ct = Counter(s)\n",
    "print(ct)\n",
    "print(ct.most_common(1)[0][1])"
   ]
  },
  {
   "cell_type": "code",
   "execution_count": 36,
   "metadata": {},
   "outputs": [
    {
     "name": "stdout",
     "output_type": "stream",
     "text": [
      "mphcuasvrnjzzkbgdtqeoylva\n"
     ]
    }
   ],
   "source": [
    "# Puzzle 2\n",
    "with open(\"Day-2-input.txt.txt\", \"r\") as f:\n",
    "    lines = f.readlines()\n",
    "lines = [x.strip() for x in lines]\n",
    "line_len = len(lines[0])\n",
    "code = \"\"\n",
    "for i in range(line_len):\n",
    "    rm_char = [line[0:i] + line[i + 1:line_len + 1] for line in lines]\n",
    "    counter = Counter(rm_char)\n",
    "    most_com = counter.most_common(1)\n",
    "    if most_com[0][1] > 1:\n",
    "        code = most_com[0][0]\n",
    "        break\n",
    "        \n",
    "print(code)"
   ]
  }
 ],
 "metadata": {
  "kernelspec": {
   "display_name": "Python 3",
   "language": "python",
   "name": "python3"
  },
  "language_info": {
   "codemirror_mode": {
    "name": "ipython",
    "version": 3
   },
   "file_extension": ".py",
   "mimetype": "text/x-python",
   "name": "python",
   "nbconvert_exporter": "python",
   "pygments_lexer": "ipython3",
   "version": "3.6.3"
  }
 },
 "nbformat": 4,
 "nbformat_minor": 2
}
