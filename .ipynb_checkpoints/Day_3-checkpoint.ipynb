{
 "cells": [
  {
   "cell_type": "markdown",
   "metadata": {},
   "source": [
    "Puzzle 1 \n",
    "Todo:\n",
    "- Parse Coords\n",
    "- Figure how to plot for one guy\n",
    "- Plot every claim\n",
    "- Filter array for more than one claim\n",
    "-) Count spaces"
   ]
  },
  {
   "cell_type": "code",
   "execution_count": 13,
   "metadata": {},
   "outputs": [
    {
     "name": "stdout",
     "output_type": "stream",
     "text": [
      "test_passed\n"
     ]
    }
   ],
   "source": [
    "def getCoords(line):\n",
    "    coords = {\"start_x\":0, \"start_y\":0, \"end_x\":0, \"end_y\":0}\n",
    "    at_pos = line.find(\"@\")\n",
    "    com_pos = line.find(\",\")\n",
    "    col_pos = line.find(\":\")\n",
    "    x_pos = line.find(\"x\")\n",
    "    \n",
    "    coords[\"start_x\"] = int(line[at_pos + 2 : com_pos])\n",
    "    coords[\"start_y\"] = int(line[com_pos + 1 : col_pos])\n",
    "    coords[\"end_x\"] = coords[\"start_x\"] + int(line[col_pos + 2 : x_pos]) - 1\n",
    "    coords[\"end_y\"] = coords[\"start_y\"] + int(line[x_pos + 1:]) - 1\n",
    "    return coords\n",
    "\n",
    "def test_getCoords():\n",
    "    test_line = \"#1 @ 1,3: 4x4\"\n",
    "    coords = getCoords(test_line)\n",
    "    try:\n",
    "        assert coords[\"start_x\"] == 1, \"start x is wrong\"\n",
    "        assert coords[\"start_y\"] == 3, \"start y is wrong\"\n",
    "        assert coords[\"end_x\"] == 4, \"end x is wrong\"\n",
    "        assert coords[\"end_y\"] == 6, \"end y is wrong\"\n",
    "        print(\"test_passed\")\n",
    "    except AssertionError as e:\n",
    "        print (\"Test Failed: \", e)\n",
    "        \n",
    "   \n",
    "test_getCoords()"
   ]
  },
  {
   "cell_type": "code",
   "execution_count": 26,
   "metadata": {},
   "outputs": [
    {
     "name": "stdout",
     "output_type": "stream",
     "text": [
      "[[ 0.  0.  0.  0.  0.  0.  0.  0.  0.  0.  0.]\n",
      " [ 0.  0.  0.  0.  0.  0.  0.  0.  0.  0.  0.]\n",
      " [ 0.  0.  0.  2.  2.  1.  1.  1.  0.  0.  0.]\n",
      " [ 0.  0.  0.  2.  2.  2.  2.  2.  0.  0.  0.]\n",
      " [ 0.  0.  0.  1.  1.  2.  2.  2.  0.  0.  0.]\n",
      " [ 0.  0.  0.  1.  1.  2.  2.  2.  0.  0.  0.]\n",
      " [ 0.  0.  0.  0.  0.  0.  0.  0.  0.  0.  0.]\n",
      " [ 0.  0.  0.  0.  0.  0.  0.  0.  0.  0.  0.]\n",
      " [ 0.  0.  0.  0.  0.  0.  0.  0.  0.  0.  0.]]\n",
      "[ 2.  2.  2.  2.  2.  2.  2.  2.  2.  2.  2.  2.  2.]\n",
      "13\n"
     ]
    }
   ],
   "source": [
    "import numpy as np\n",
    "# test plotting\n",
    "# remember indexing is [y, x]\n",
    "test_cloth = np.zeros((9,11))\n",
    "test_cloth[2 : 2 + 4, 3 : 3 + 5] = 1\n",
    "test_cloth[2 : 2 + 2, 3 : 3 + 2] += 1\n",
    "test_cloth[3 : 6, 5:8] += 1\n",
    "print(test_cloth)\n",
    "\n",
    "check = test_cloth[test_cloth > 1]\n",
    "print(check)\n",
    "print(len(check))"
   ]
  },
  {
   "cell_type": "code",
   "execution_count": 28,
   "metadata": {},
   "outputs": [
    {
     "name": "stdout",
     "output_type": "stream",
     "text": [
      "109785\n"
     ]
    }
   ],
   "source": [
    "# Puzzle 1 solution\n",
    "cloth = np.zeros((1001,1001))\n",
    "with open(\"day3_input.txt\", \"r\") as file:\n",
    "    for line in file:\n",
    "        coords = getCoords(line)\n",
    "        cloth[coords[\"start_y\"] : coords[\"end_y\"] + 1, coords[\"start_x\"] : coords[\"end_x\"] + 1] += 1\n",
    "overlaps = len(cloth[cloth > 1])\n",
    "print(overlaps)"
   ]
  }
 ],
 "metadata": {
  "kernelspec": {
   "display_name": "Python 3",
   "language": "python",
   "name": "python3"
  },
  "language_info": {
   "codemirror_mode": {
    "name": "ipython",
    "version": 3
   },
   "file_extension": ".py",
   "mimetype": "text/x-python",
   "name": "python",
   "nbconvert_exporter": "python",
   "pygments_lexer": "ipython3",
   "version": "3.6.3"
  }
 },
 "nbformat": 4,
 "nbformat_minor": 2
}
